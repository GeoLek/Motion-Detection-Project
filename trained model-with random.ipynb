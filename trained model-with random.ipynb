{
 "cells": [
  {
   "cell_type": "code",
   "execution_count": 9,
   "id": "fe9ec24a",
   "metadata": {},
   "outputs": [
    {
     "name": "stdout",
     "output_type": "stream",
     "text": [
      "Number of samples in X: 100\n",
      "Number of samples in y: 100\n",
      "Accuracy: 0.9\n",
      "Problematic Filenames: []\n"
     ]
    },
    {
     "data": {
      "text/plain": [
       "['trained_img_model.pkl']"
      ]
     },
     "execution_count": 9,
     "metadata": {},
     "output_type": "execute_result"
    }
   ],
   "source": [
    "#Training the model with Support Vector Classifier\n",
    "\n",
    "import os\n",
    "import numpy as np\n",
    "from PIL import Image\n",
    "import random\n",
    "from sklearn.model_selection import train_test_split\n",
    "from sklearn.svm import SVC  # Example: using Support Vector Classifier\n",
    "\n",
    "# Define the path to the directory containing your image data\n",
    "data_dir = \"images/\"\n",
    "\n",
    "# List all the filenames in the data directory\n",
    "filenames = [filename for filename in os.listdir(data_dir) if filename.endswith(\".jpg\")]\n",
    "\n",
    "# Shuffle the list of filenames to ensure randomness\n",
    "random.shuffle(filenames)\n",
    "\n",
    "# Initialize a list to store problematic filenames\n",
    "problematic_filenames = []\n",
    "\n",
    "# Define a function for loading and preprocessing images\n",
    "def load_and_preprocess_images(data_filenames):\n",
    "    # Initialize lists to store images and labels\n",
    "    images = []\n",
    "    labels = []\n",
    "\n",
    "    # Loop through the image filenames\n",
    "    for filename in data_filenames:\n",
    "        try:\n",
    "            # Load and preprocess the image\n",
    "            img = Image.open(os.path.join(data_dir, filename))\n",
    "            #img = img.resize((64, 64))  # Resize images to a consistent size\n",
    "            img = np.array(img)  # Convert to NumPy array\n",
    "            images.append(img)\n",
    "\n",
    "            # Determine the label based on the presence of \"motion\" in filename\n",
    "            if \"_motion\" in filename.lower():  # Convert to lowercase for case insensitivity\n",
    "                labels.append(1)  # Label as motion\n",
    "            else:\n",
    "                labels.append(0)  # Label as no motion\n",
    "        except Exception as e:\n",
    "            # If an error occurs, skip the image and add the filename to problematic_filenames\n",
    "            print(f\"Error processing {filename}: {str(e)}\")\n",
    "            problematic_filenames.append(filename)\n",
    "            continue\n",
    "\n",
    "    # Convert lists to NumPy arrays\n",
    "    X = np.array(images)\n",
    "    y = np.array(labels)\n",
    "\n",
    "    return X, y\n",
    "\n",
    "# Load and preprocess data for the entire dataset\n",
    "X, y = load_and_preprocess_images(filenames)\n",
    "\n",
    "# Debugging: Check the number of samples in X and y\n",
    "print(\"Number of samples in X:\", X.shape[0])\n",
    "print(\"Number of samples in y:\", len(y))\n",
    "\n",
    "# Split the data into training and testing sets\n",
    "X_train, X_test, y_train, y_test = train_test_split(X, y, test_size=0.2, random_state=42)\n",
    "\n",
    "# Create and train a machine learning model (e.g., Support Vector Classifier)\n",
    "model = SVC()\n",
    "model.fit(X_train.reshape(X_train.shape[0], -1), y_train)  # Flatten X_train\n",
    "\n",
    "# Evaluate the model\n",
    "accuracy = model.score(X_test.reshape(X_test.shape[0], -1), y_test)  # Flatten X_test\n",
    "print(f\"Accuracy: {accuracy}\")\n",
    "\n",
    "# Print the list of problematic filenames for manual inspection and deletion\n",
    "print(\"Problematic Filenames:\", problematic_filenames)\n",
    "\n",
    "import joblib\n",
    "\n",
    "# Save the trained model to a file\n",
    "joblib.dump(model, \"trained_img_model.pkl\")\n"
   ]
  },
  {
   "cell_type": "code",
   "execution_count": null,
   "id": "0e50be88",
   "metadata": {},
   "outputs": [],
   "source": []
  },
  {
   "cell_type": "code",
   "execution_count": null,
   "id": "4111a3fc",
   "metadata": {},
   "outputs": [],
   "source": []
  }
 ],
 "metadata": {
  "kernelspec": {
   "display_name": "Python 3 (ipykernel)",
   "language": "python",
   "name": "python3"
  },
  "language_info": {
   "codemirror_mode": {
    "name": "ipython",
    "version": 3
   },
   "file_extension": ".py",
   "mimetype": "text/x-python",
   "name": "python",
   "nbconvert_exporter": "python",
   "pygments_lexer": "ipython3",
   "version": "3.8.10"
  }
 },
 "nbformat": 4,
 "nbformat_minor": 5
}
