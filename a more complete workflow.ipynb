{
 "cells": [
  {
   "cell_type": "code",
   "execution_count": 1,
   "id": "8f776eae",
   "metadata": {},
   "outputs": [
    {
     "name": "stdout",
     "output_type": "stream",
     "text": [
      "X shape: (100, 1080, 1920, 3)\n",
      "y shape: (100,)\n",
      "Accuracy: 0.95\n"
     ]
    }
   ],
   "source": [
    "#Effort to make a more complete workflow\n",
    "\n",
    "# Import necessary libraries\n",
    "import os\n",
    "import numpy as np\n",
    "from PIL import Image\n",
    "from sklearn.model_selection import train_test_split\n",
    "from sklearn.svm import SVC  # Example: using Support Vector Classifier\n",
    "\n",
    "# Define the path to the directory containing your image data\n",
    "data_dir = \"images/\"\n",
    "\n",
    "# Define a function for loading and preprocessing images\n",
    "def load_and_preprocess_images(data_dir):\n",
    "    # Initialize lists to store images and labels\n",
    "    images = []\n",
    "    labels = []\n",
    "\n",
    "    # Loop through the image files in the data directory\n",
    "    for filename in os.listdir(data_dir):\n",
    "        if filename.endswith(\".jpg\"):\n",
    "            try:\n",
    "                # Load and preprocess the image\n",
    "                img = Image.open(os.path.join(data_dir, filename))\n",
    "                img = np.array(img)  # Convert to NumPy array\n",
    "                images.append(img)\n",
    "                \n",
    "                # Determine the label based on the presence of \"motion\" in filename\n",
    "                if \"motion\" in filename:\n",
    "                    labels.append(1)  # Label as motion\n",
    "                else:\n",
    "                    labels.append(0)  # Label as no motion\n",
    "            except Exception as e:\n",
    "                # Skip the image if an error occurs and print the error message\n",
    "                print(f\"Error processing {filename}: {str(e)}\")\n",
    "                continue\n",
    "\n",
    "    # Convert lists to NumPy arrays\n",
    "    X = np.array(images)\n",
    "    y = np.array(labels)\n",
    "    \n",
    "    return X, y\n",
    "\n",
    "\n",
    "# Load and preprocess data using the function\n",
    "X, y = load_and_preprocess_images(data_dir)\n",
    "\n",
    "# Debugging: Print shapes of X and y\n",
    "print(\"X shape:\", X.shape)\n",
    "print(\"y shape:\", y.shape)\n",
    "\n",
    "# Split the data into training and testing sets\n",
    "X_train, X_test, y_train, y_test = train_test_split(X, y, test_size=0.2, random_state=42)\n",
    "\n",
    "\n",
    "# Create and train a machine learning model (e.g., Support Vector Classifier)\n",
    "model = SVC()\n",
    "model.fit(X_train.reshape(X_train.shape[0], -1), y_train)  # Flatten X_train\n",
    "\n",
    "# Evaluate the model\n",
    "accuracy = model.score(X_test.reshape(X_test.shape[0], -1), y_test)  # Flatten X_test\n",
    "print(f\"Accuracy: {accuracy}\")\n"
   ]
  },
  {
   "cell_type": "code",
   "execution_count": null,
   "id": "b2d89b86",
   "metadata": {},
   "outputs": [],
   "source": []
  }
 ],
 "metadata": {
  "kernelspec": {
   "display_name": "Python 3 (ipykernel)",
   "language": "python",
   "name": "python3"
  },
  "language_info": {
   "codemirror_mode": {
    "name": "ipython",
    "version": 3
   },
   "file_extension": ".py",
   "mimetype": "text/x-python",
   "name": "python",
   "nbconvert_exporter": "python",
   "pygments_lexer": "ipython3",
   "version": "3.8.10"
  }
 },
 "nbformat": 4,
 "nbformat_minor": 5
}
